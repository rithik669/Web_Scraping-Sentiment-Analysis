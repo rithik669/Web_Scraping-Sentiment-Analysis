{
 "cells": [
  {
   "attachments": {},
   "cell_type": "markdown",
   "metadata": {},
   "source": [
    "WEB SCRAPING THE REVIEWS OF A HOME LOANS COMPANY FROM CONSUMER AFFAIRS AND PERFORMING SENTIMENT ANALYSIS"
   ]
  },
  {
   "cell_type": "code",
   "execution_count": 2,
   "metadata": {},
   "outputs": [],
   "source": [
    "#importing libraries and providing base url"
   ]
  },
  {
   "cell_type": "code",
   "execution_count": 3,
   "metadata": {},
   "outputs": [],
   "source": [
    "import pandas as pd\n",
    "import numpy as np\n",
    "import requests\n",
    "from bs4 import BeautifulSoup as bs\n",
    "\n",
    "base_url=\"https://www.consumeraffairs.com/finance/caliber-home-loans.html\""
   ]
  },
  {
   "cell_type": "code",
   "execution_count": 4,
   "metadata": {},
   "outputs": [],
   "source": [
    "all_pages_reviews=[]\n",
    "all_pages_date=[]\n",
    "all_pages_ratings=[]"
   ]
  },
  {
   "cell_type": "code",
   "execution_count": 5,
   "metadata": {},
   "outputs": [],
   "source": [
    "#creating a function that scrapes relevant information"
   ]
  },
  {
   "cell_type": "code",
   "execution_count": 6,
   "metadata": {},
   "outputs": [],
   "source": [
    "def scraper():\n",
    "    for i in range(1,20):\n",
    "        pagewise_reviews=[]\n",
    "        pagewise_date=[]\n",
    "        pagewise_rating=[]\n",
    "        query_parameter=\"?page=\"+str(i)+\"#scroll_to_reviews=true\"\n",
    "        url = base_url+query_parameter\n",
    "        response=requests.get(url)\n",
    "        soup=bs(response.content,'html.parser')\n",
    "        rev_div = soup.findAll(\"div\",attrs={\"class\",\"rvw-bd\"})\n",
    "        rev_date= soup.findAll(\"span\",attrs={\"class\",\"ca-txt-cpt\"})\n",
    "        for date in rev_date:\n",
    "            text= date.text\n",
    "            pagewise_date.append(text)\n",
    "\n",
    "        rev_rating = soup.findAll(\"div\",attrs={\"class\",\"rvw__hdr-stat\"})\n",
    "        for rating in rev_rating:\n",
    "            children=rating.findChildren(\"img\", recursive=False)\n",
    "            for child in children:\n",
    "                text = child.get('alt')\n",
    "                pagewise_rating.append(text)\n",
    "        \n",
    "        for j in range(len(rev_div)):\n",
    "            pagewise_reviews.append(rev_div[j].find(\"p\").text)\n",
    "\n",
    "        \n",
    "        for k in range(len(pagewise_reviews)):\n",
    "            all_pages_reviews.append(pagewise_reviews[k])\n",
    "            all_pages_date.append(pagewise_date[k])\n",
    "            all_pages_ratings.append(pagewise_rating[k])\n",
    "    \n",
    "    \n",
    "    return (all_pages_reviews, all_pages_date, all_pages_ratings)\n"
   ]
  },
  {
   "cell_type": "code",
   "execution_count": 7,
   "metadata": {},
   "outputs": [],
   "source": [
    "#initializing function and creating data frame."
   ]
  },
  {
   "cell_type": "code",
   "execution_count": 8,
   "metadata": {},
   "outputs": [
    {
     "name": "stdout",
     "output_type": "stream",
     "text": [
      "550\n"
     ]
    }
   ],
   "source": [
    "result=scraper()\n",
    "print(len(result[0]))\n",
    "#i = range(1, len(result[0])+1)\n",
    "reviews_df = pd.DataFrame({'date':result[1],'review':result[0], 'rating': result[2]})"
   ]
  },
  {
   "cell_type": "code",
   "execution_count": 9,
   "metadata": {},
   "outputs": [],
   "source": [
    "#Checking the top 10 rows of the dataframe "
   ]
  },
  {
   "cell_type": "code",
   "execution_count": 10,
   "metadata": {},
   "outputs": [
    {
     "data": {
      "text/html": [
       "<div>\n",
       "<style scoped>\n",
       "    .dataframe tbody tr th:only-of-type {\n",
       "        vertical-align: middle;\n",
       "    }\n",
       "\n",
       "    .dataframe tbody tr th {\n",
       "        vertical-align: top;\n",
       "    }\n",
       "\n",
       "    .dataframe thead th {\n",
       "        text-align: right;\n",
       "    }\n",
       "</style>\n",
       "<table border=\"1\" class=\"dataframe\">\n",
       "  <thead>\n",
       "    <tr style=\"text-align: right;\">\n",
       "      <th></th>\n",
       "      <th>date</th>\n",
       "      <th>review</th>\n",
       "      <th>rating</th>\n",
       "    </tr>\n",
       "  </thead>\n",
       "  <tbody>\n",
       "    <tr>\n",
       "      <th>0</th>\n",
       "      <td>Original review: Oct. 14, 2022</td>\n",
       "      <td>I am a real estate professional in Florida. I ...</td>\n",
       "      <td>Rated with 1 star</td>\n",
       "    </tr>\n",
       "    <tr>\n",
       "      <th>1</th>\n",
       "      <td>Original review: Oct. 7, 2022</td>\n",
       "      <td>Derek ** has been great. Usually available but...</td>\n",
       "      <td>Rated with 5 stars</td>\n",
       "    </tr>\n",
       "    <tr>\n",
       "      <th>2</th>\n",
       "      <td>Original review: Aug. 6, 2022</td>\n",
       "      <td>!!!No communication, raises mortgage payment d...</td>\n",
       "      <td>Rated with 1 star</td>\n",
       "    </tr>\n",
       "    <tr>\n",
       "      <th>3</th>\n",
       "      <td>Original review: Aug. 4, 2022</td>\n",
       "      <td>Servicing the loan I had no complaints until I...</td>\n",
       "      <td>Rated with 1 star</td>\n",
       "    </tr>\n",
       "    <tr>\n",
       "      <th>4</th>\n",
       "      <td>Original review: July 6, 2022</td>\n",
       "      <td>My experience with this company was a nightmar...</td>\n",
       "      <td>Rated with 1 star</td>\n",
       "    </tr>\n",
       "    <tr>\n",
       "      <th>5</th>\n",
       "      <td>Original review: June 4, 2022</td>\n",
       "      <td>I don't recommend this company at all. Period....</td>\n",
       "      <td>Rated with 1 star</td>\n",
       "    </tr>\n",
       "    <tr>\n",
       "      <th>6</th>\n",
       "      <td>Original review: May 18, 2022</td>\n",
       "      <td>Back in January of 2022 the processing departm...</td>\n",
       "      <td>Rated with 1 star</td>\n",
       "    </tr>\n",
       "    <tr>\n",
       "      <th>7</th>\n",
       "      <td>Original review: May 5, 2022</td>\n",
       "      <td>Updated on 05/15/2022: I wrote complaint about...</td>\n",
       "      <td>Rated with 1 star</td>\n",
       "    </tr>\n",
       "    <tr>\n",
       "      <th>8</th>\n",
       "      <td>Original review: May 5, 2022</td>\n",
       "      <td>Most times when I tried to pay my monthly paym...</td>\n",
       "      <td>Rated with 1 star</td>\n",
       "    </tr>\n",
       "    <tr>\n",
       "      <th>9</th>\n",
       "      <td>Original review: March 7, 2022</td>\n",
       "      <td>Caliber bought out our loan from the original ...</td>\n",
       "      <td>Rated with 2 stars</td>\n",
       "    </tr>\n",
       "  </tbody>\n",
       "</table>\n",
       "</div>"
      ],
      "text/plain": [
       "                             date  \\\n",
       "0  Original review: Oct. 14, 2022   \n",
       "1   Original review: Oct. 7, 2022   \n",
       "2   Original review: Aug. 6, 2022   \n",
       "3   Original review: Aug. 4, 2022   \n",
       "4   Original review: July 6, 2022   \n",
       "5   Original review: June 4, 2022   \n",
       "6   Original review: May 18, 2022   \n",
       "7    Original review: May 5, 2022   \n",
       "8    Original review: May 5, 2022   \n",
       "9  Original review: March 7, 2022   \n",
       "\n",
       "                                              review              rating  \n",
       "0  I am a real estate professional in Florida. I ...   Rated with 1 star  \n",
       "1  Derek ** has been great. Usually available but...  Rated with 5 stars  \n",
       "2  !!!No communication, raises mortgage payment d...   Rated with 1 star  \n",
       "3  Servicing the loan I had no complaints until I...   Rated with 1 star  \n",
       "4  My experience with this company was a nightmar...   Rated with 1 star  \n",
       "5  I don't recommend this company at all. Period....   Rated with 1 star  \n",
       "6  Back in January of 2022 the processing departm...   Rated with 1 star  \n",
       "7  Updated on 05/15/2022: I wrote complaint about...   Rated with 1 star  \n",
       "8  Most times when I tried to pay my monthly paym...   Rated with 1 star  \n",
       "9  Caliber bought out our loan from the original ...  Rated with 2 stars  "
      ]
     },
     "execution_count": 10,
     "metadata": {},
     "output_type": "execute_result"
    }
   ],
   "source": [
    "reviews_df.head(10)"
   ]
  },
  {
   "cell_type": "code",
   "execution_count": 11,
   "metadata": {},
   "outputs": [],
   "source": [
    "#Saving data to a file (tab delimited)"
   ]
  },
  {
   "cell_type": "code",
   "execution_count": 12,
   "metadata": {},
   "outputs": [],
   "source": [
    "reviews_df.to_csv('reviews.txt', sep='t')"
   ]
  },
  {
   "attachments": {},
   "cell_type": "markdown",
   "metadata": {},
   "source": [
    "DATA CLEANING & MANIPULATION"
   ]
  },
  {
   "cell_type": "code",
   "execution_count": 13,
   "metadata": {},
   "outputs": [],
   "source": [
    "#Data Cleaning\n",
    "#splitting columns \n",
    "#converting data types"
   ]
  },
  {
   "cell_type": "code",
   "execution_count": 14,
   "metadata": {},
   "outputs": [],
   "source": [
    "r_df1=reviews_df.copy(deep=True)\n",
    "r_df1['date']= reviews_df['date'].str.extract('([A-z]*.\\s[0-9]*,\\s[0-9]*)', expand=True)\n",
    "r_df1['rating']= reviews_df['rating'].str.extract('([0-9])', expand=True)\n",
    "r_df1['rating']=r_df1['rating'].astype(str).astype(int)\n",
    "r_df1['date']=r_df1[['date']].apply(pd.to_datetime)\n"
   ]
  },
  {
   "cell_type": "code",
   "execution_count": 15,
   "metadata": {},
   "outputs": [
    {
     "name": "stdout",
     "output_type": "stream",
     "text": [
      "<class 'pandas.core.frame.DataFrame'>\n",
      "RangeIndex: 550 entries, 0 to 549\n",
      "Data columns (total 3 columns):\n",
      " #   Column  Non-Null Count  Dtype         \n",
      "---  ------  --------------  -----         \n",
      " 0   date    550 non-null    datetime64[ns]\n",
      " 1   review  550 non-null    object        \n",
      " 2   rating  550 non-null    int32         \n",
      "dtypes: datetime64[ns](1), int32(1), object(1)\n",
      "memory usage: 10.9+ KB\n"
     ]
    }
   ],
   "source": [
    "#Checking the data types\n",
    "r_df1.info()"
   ]
  },
  {
   "cell_type": "code",
   "execution_count": 16,
   "metadata": {},
   "outputs": [
    {
     "data": {
      "text/html": [
       "<div>\n",
       "<style scoped>\n",
       "    .dataframe tbody tr th:only-of-type {\n",
       "        vertical-align: middle;\n",
       "    }\n",
       "\n",
       "    .dataframe tbody tr th {\n",
       "        vertical-align: top;\n",
       "    }\n",
       "\n",
       "    .dataframe thead th {\n",
       "        text-align: right;\n",
       "    }\n",
       "</style>\n",
       "<table border=\"1\" class=\"dataframe\">\n",
       "  <thead>\n",
       "    <tr style=\"text-align: right;\">\n",
       "      <th></th>\n",
       "      <th>date</th>\n",
       "      <th>review</th>\n",
       "      <th>rating</th>\n",
       "    </tr>\n",
       "  </thead>\n",
       "  <tbody>\n",
       "    <tr>\n",
       "      <th>0</th>\n",
       "      <td>2022-10-14</td>\n",
       "      <td>I am a real estate professional in Florida. I ...</td>\n",
       "      <td>1</td>\n",
       "    </tr>\n",
       "    <tr>\n",
       "      <th>1</th>\n",
       "      <td>2022-10-07</td>\n",
       "      <td>Derek ** has been great. Usually available but...</td>\n",
       "      <td>5</td>\n",
       "    </tr>\n",
       "    <tr>\n",
       "      <th>2</th>\n",
       "      <td>2022-08-06</td>\n",
       "      <td>!!!No communication, raises mortgage payment d...</td>\n",
       "      <td>1</td>\n",
       "    </tr>\n",
       "    <tr>\n",
       "      <th>3</th>\n",
       "      <td>2022-08-04</td>\n",
       "      <td>Servicing the loan I had no complaints until I...</td>\n",
       "      <td>1</td>\n",
       "    </tr>\n",
       "    <tr>\n",
       "      <th>4</th>\n",
       "      <td>2022-07-06</td>\n",
       "      <td>My experience with this company was a nightmar...</td>\n",
       "      <td>1</td>\n",
       "    </tr>\n",
       "    <tr>\n",
       "      <th>5</th>\n",
       "      <td>2022-06-04</td>\n",
       "      <td>I don't recommend this company at all. Period....</td>\n",
       "      <td>1</td>\n",
       "    </tr>\n",
       "    <tr>\n",
       "      <th>6</th>\n",
       "      <td>2022-05-18</td>\n",
       "      <td>Back in January of 2022 the processing departm...</td>\n",
       "      <td>1</td>\n",
       "    </tr>\n",
       "    <tr>\n",
       "      <th>7</th>\n",
       "      <td>2022-05-05</td>\n",
       "      <td>Updated on 05/15/2022: I wrote complaint about...</td>\n",
       "      <td>1</td>\n",
       "    </tr>\n",
       "    <tr>\n",
       "      <th>8</th>\n",
       "      <td>2022-05-05</td>\n",
       "      <td>Most times when I tried to pay my monthly paym...</td>\n",
       "      <td>1</td>\n",
       "    </tr>\n",
       "    <tr>\n",
       "      <th>9</th>\n",
       "      <td>2022-03-07</td>\n",
       "      <td>Caliber bought out our loan from the original ...</td>\n",
       "      <td>2</td>\n",
       "    </tr>\n",
       "  </tbody>\n",
       "</table>\n",
       "</div>"
      ],
      "text/plain": [
       "        date                                             review  rating\n",
       "0 2022-10-14  I am a real estate professional in Florida. I ...       1\n",
       "1 2022-10-07  Derek ** has been great. Usually available but...       5\n",
       "2 2022-08-06  !!!No communication, raises mortgage payment d...       1\n",
       "3 2022-08-04  Servicing the loan I had no complaints until I...       1\n",
       "4 2022-07-06  My experience with this company was a nightmar...       1\n",
       "5 2022-06-04  I don't recommend this company at all. Period....       1\n",
       "6 2022-05-18  Back in January of 2022 the processing departm...       1\n",
       "7 2022-05-05  Updated on 05/15/2022: I wrote complaint about...       1\n",
       "8 2022-05-05  Most times when I tried to pay my monthly paym...       1\n",
       "9 2022-03-07  Caliber bought out our loan from the original ...       2"
      ]
     },
     "execution_count": 16,
     "metadata": {},
     "output_type": "execute_result"
    }
   ],
   "source": [
    "#checking dataframe\n",
    "r_df1.head(10)"
   ]
  },
  {
   "attachments": {},
   "cell_type": "markdown",
   "metadata": {},
   "source": [
    "SENTIMENT ANALYSIS"
   ]
  },
  {
   "cell_type": "code",
   "execution_count": 17,
   "metadata": {},
   "outputs": [],
   "source": [
    "#Now we will do Sentiment Analysis\n",
    "#lets categorize the reviews into sentiment\n",
    "\n",
    "def sentiment_category (rating):\n",
    "    if rating==1 or rating==2 or rating==3:\n",
    "        return 0 #negative sentiment\n",
    "    else:\n",
    "        return 1 #positive sentiment\n",
    "    \n",
    "\n",
    "\n",
    "r_df1['sentiment'] = r_df1['rating'].apply(sentiment_category)\n"
   ]
  },
  {
   "cell_type": "code",
   "execution_count": 18,
   "metadata": {},
   "outputs": [
    {
     "data": {
      "text/plain": [
       "<AxesSubplot:ylabel='sentiment'>"
      ]
     },
     "execution_count": 18,
     "metadata": {},
     "output_type": "execute_result"
    },
    {
     "data": {
      "image/png": "[encoded data removed]",
      "text/plain": [
       "<Figure size 640x480 with 1 Axes>"
      ]
     },
     "metadata": {},
     "output_type": "display_data"
    }
   ],
   "source": [
    "#visualizing the frequency\n",
    "\n",
    "r_df1.sentiment.value_counts().plot(kind='pie', autopct='%1.0f%%', colors=[\"green\", \"red\"])"
   ]
  },
  {
   "cell_type": "code",
   "execution_count": 117,
   "metadata": {},
   "outputs": [],
   "source": [
    "#majority of reviews are positive and we have an imbalanced data set. "
   ]
  },
  {
   "cell_type": "code",
   "execution_count": 19,
   "metadata": {},
   "outputs": [],
   "source": [
    "#now we have target variable\n",
    "#let's preprocess review column before supplying it to the model\n",
    "\n",
    "#importing all necessary packages\n",
    "\n",
    "#pip install --upgrade scikit-learn\n",
    "import matplotlib.pyplot as plt\n",
    "import os\n",
    "import nltk\n",
    "#nltk.download('stopwords')\n",
    "from nltk import word_tokenize, sent_tokenize\n",
    "from nltk.corpus import stopwords\n",
    "from nltk.stem import LancasterStemmer, WordNetLemmatizer, PorterStemmer\n",
    "from sklearn.feature_extraction.text import TfidfVectorizer\n",
    "from sklearn.model_selection import train_test_split\n",
    "from sklearn.linear_model import LogisticRegression\n",
    "from sklearn.metrics import classification_report, confusion_matrix, accuracy_score, ConfusionMatrixDisplay\n",
    "\n",
    "\n"
   ]
  },
  {
   "attachments": {},
   "cell_type": "markdown",
   "metadata": {},
   "source": [
    "TEXT PREPROCESSING"
   ]
  },
  {
   "cell_type": "code",
   "execution_count": 20,
   "metadata": {},
   "outputs": [],
   "source": [
    "#convert to lowercase\n",
    "r_df1['review'] = r_df1['review'].apply(lambda x: \" \".join(x.lower() for x in x.split()))"
   ]
  },
  {
   "cell_type": "code",
   "execution_count": 21,
   "metadata": {},
   "outputs": [
    {
     "data": {
      "text/plain": [
       "'!!!no communication, raises mortgage payment due to “escrow shortage”, paid it off over the last year, payment stays the same despite the payments being done. i call customer service to figure out why, they say it’s cause i need to have them do a new escrow analysis, despite the fact the agreement was for a 12 month period and they told me nothing about needing to do something on my end when i agreed to the extra payment for the 12 months. so i say do the escrow analysis and ask to speak to a manager/supervisor to go over this and they put in a note for them to call me back. it’s been two weeks and no call back yet despite me trying to call them twice in that time and each time no one being “available” but they’ll add to the note on my account. now i check and they finished the escrow analysis and it raised my payment again… what in the actual ** is going on and why can’t i get some or to talk to me?!'"
      ]
     },
     "execution_count": 21,
     "metadata": {},
     "output_type": "execute_result"
    }
   ],
   "source": [
    "#confirming\n",
    "r_df1['review'][2]"
   ]
  },
  {
   "cell_type": "code",
   "execution_count": 22,
   "metadata": {},
   "outputs": [
    {
     "name": "stderr",
     "output_type": "stream",
     "text": [
      "C:\\Users\\rithi\\AppData\\Local\\Temp\\ipykernel_20420\\1867342974.py:3: FutureWarning: The default value of regex will change from True to False in a future version.\n",
      "  r_df1['review'] = r_df1['review'].str.replace(patterndigits,'')\n",
      "C:\\Users\\rithi\\AppData\\Local\\Temp\\ipykernel_20420\\1867342974.py:8: FutureWarning: The default value of regex will change from True to False in a future version.\n",
      "  r_df1['review'] = r_df1['review'].str.replace(patternpunc,'')\n"
     ]
    }
   ],
   "source": [
    "#removing digits\n",
    "patterndigits = '\\\\b[0-9]+\\\\b'\n",
    "r_df1['review'] = r_df1['review'].str.replace(patterndigits,'')\n",
    "\n",
    "\n",
    "#removing punctuation\n",
    "patternpunc = '[^\\w\\s]'\n",
    "r_df1['review'] = r_df1['review'].str.replace(patternpunc,'')"
   ]
  },
  {
   "cell_type": "code",
   "execution_count": 23,
   "metadata": {},
   "outputs": [
    {
     "data": {
      "text/plain": [
       "'no communication raises mortgage payment due to escrow shortage paid it off over the last year payment stays the same despite the payments being done i call customer service to figure out why they say its cause i need to have them do a new escrow analysis despite the fact the agreement was for a  month period and they told me nothing about needing to do something on my end when i agreed to the extra payment for the  months so i say do the escrow analysis and ask to speak to a managersupervisor to go over this and they put in a note for them to call me back its been two weeks and no call back yet despite me trying to call them twice in that time and each time no one being available but theyll add to the note on my account now i check and they finished the escrow analysis and it raised my payment again what in the actual  is going on and why cant i get some or to talk to me'"
      ]
     },
     "execution_count": 23,
     "metadata": {},
     "output_type": "execute_result"
    }
   ],
   "source": [
    "#confirming\n",
    "r_df1['review'][2]"
   ]
  },
  {
   "cell_type": "code",
   "execution_count": 24,
   "metadata": {},
   "outputs": [],
   "source": [
    "#removing stop words\n",
    "\n",
    "stop = stopwords.words('english')\n",
    "\n",
    "r_df1['review'] = r_df1['review'].apply(lambda x: \" \".join(x for x in x.split() if x not in stop))"
   ]
  },
  {
   "cell_type": "code",
   "execution_count": 25,
   "metadata": {},
   "outputs": [],
   "source": [
    "#stem the words\n",
    "porstem = PorterStemmer()\n",
    "\n",
    "r_df1['review'] = r_df1['review'].apply(lambda x: \" \".join([porstem.stem(word) for word in x.split()]))"
   ]
  },
  {
   "cell_type": "code",
   "execution_count": 26,
   "metadata": {},
   "outputs": [],
   "source": [
    "#converting into TF-IDF matrix\n",
    "tfidf = TfidfVectorizer(strip_accents=None, \n",
    "                        lowercase=False,\n",
    "                        preprocessor=None)\n",
    "\n",
    "X = tfidf.fit_transform(r_df1['review'])"
   ]
  },
  {
   "cell_type": "code",
   "execution_count": 27,
   "metadata": {},
   "outputs": [],
   "source": [
    "#performing train_test_split\n",
    "y = r_df1['sentiment'] # target variable\n",
    "X_train, X_test, y_train, y_test = train_test_split(X,y)"
   ]
  },
  {
   "cell_type": "code",
   "execution_count": 28,
   "metadata": {},
   "outputs": [],
   "source": [
    "#fitting into model (Logistic Regression)\n",
    "lr = LogisticRegression(solver='liblinear')\n",
    "lr.fit(X_train,y_train) # fit the model\n",
    "preds = lr.predict(X_test) # make predictions"
   ]
  },
  {
   "cell_type": "code",
   "execution_count": 29,
   "metadata": {},
   "outputs": [
    {
     "data": {
      "text/plain": [
       "0.9347826086956522"
      ]
     },
     "execution_count": 29,
     "metadata": {},
     "output_type": "execute_result"
    }
   ],
   "source": [
    "#checking accuracy\n",
    "accuracy_score(preds,y_test)"
   ]
  },
  {
   "cell_type": "code",
   "execution_count": 30,
   "metadata": {},
   "outputs": [],
   "source": [
    "cm = confusion_matrix(y_test, preds, labels=lr.classes_)\n",
    "disp = ConfusionMatrixDisplay(confusion_matrix=cm,display_labels=lr.classes_)"
   ]
  },
  {
   "cell_type": "code",
   "execution_count": 31,
   "metadata": {},
   "outputs": [
    {
     "data": {
      "image/png": "[encoded data removed]",
      "text/plain": [
       "<Figure size 640x480 with 2 Axes>"
      ]
     },
     "metadata": {},
     "output_type": "display_data"
    }
   ],
   "source": [
    "disp.plot()\n",
    "plt.show()"
   ]
  },
  {
   "cell_type": "code",
   "execution_count": 32,
   "metadata": {},
   "outputs": [
    {
     "name": "stdout",
     "output_type": "stream",
     "text": [
      "              precision    recall  f1-score   support\n",
      "\n",
      "           0       0.00      0.00      0.00         9\n",
      "           1       0.93      1.00      0.97       129\n",
      "\n",
      "    accuracy                           0.93       138\n",
      "   macro avg       0.47      0.50      0.48       138\n",
      "weighted avg       0.87      0.93      0.90       138\n",
      "\n"
     ]
    },
    {
     "name": "stderr",
     "output_type": "stream",
     "text": [
      "c:\\Users\\rithi\\AppData\\Local\\Programs\\Python\\Python39\\lib\\site-packages\\sklearn\\metrics\\_classification.py:1344: UndefinedMetricWarning: Precision and F-score are ill-defined and being set to 0.0 in labels with no predicted samples. Use `zero_division` parameter to control this behavior.\n",
      "  _warn_prf(average, modifier, msg_start, len(result))\n",
      "c:\\Users\\rithi\\AppData\\Local\\Programs\\Python\\Python39\\lib\\site-packages\\sklearn\\metrics\\_classification.py:1344: UndefinedMetricWarning: Precision and F-score are ill-defined and being set to 0.0 in labels with no predicted samples. Use `zero_division` parameter to control this behavior.\n",
      "  _warn_prf(average, modifier, msg_start, len(result))\n",
      "c:\\Users\\rithi\\AppData\\Local\\Programs\\Python\\Python39\\lib\\site-packages\\sklearn\\metrics\\_classification.py:1344: UndefinedMetricWarning: Precision and F-score are ill-defined and being set to 0.0 in labels with no predicted samples. Use `zero_division` parameter to control this behavior.\n",
      "  _warn_prf(average, modifier, msg_start, len(result))\n"
     ]
    }
   ],
   "source": [
    "print(classification_report(y_test,preds))"
   ]
  },
  {
   "attachments": {},
   "cell_type": "markdown",
   "metadata": {},
   "source": [
    "As Data is imbalanced the model is not able to predict the right values for minority class. In order to solve this problem let's use SMOTE to over sample the minority class synthetically."
   ]
  },
  {
   "cell_type": "code",
   "execution_count": 33,
   "metadata": {},
   "outputs": [],
   "source": [
    "#importing SMOTE\n",
    "from imblearn.over_sampling import SMOTE\n"
   ]
  },
  {
   "cell_type": "code",
   "execution_count": 34,
   "metadata": {},
   "outputs": [],
   "source": [
    "sm = SMOTE(random_state = 42)\n",
    "X_train_res, y_train_res = sm.fit_resample(X_train, y_train)\n"
   ]
  },
  {
   "cell_type": "code",
   "execution_count": 35,
   "metadata": {},
   "outputs": [
    {
     "name": "stdout",
     "output_type": "stream",
     "text": [
      "              precision    recall  f1-score   support\n",
      "\n",
      "           0       0.71      0.56      0.63         9\n",
      "           1       0.97      0.98      0.98       129\n",
      "\n",
      "    accuracy                           0.96       138\n",
      "   macro avg       0.84      0.77      0.80       138\n",
      "weighted avg       0.95      0.96      0.95       138\n",
      "\n"
     ]
    }
   ],
   "source": [
    "lr1 = LogisticRegression()\n",
    "lr1.fit(X_train_res, y_train_res)\n",
    "predictions = lr1.predict(X_test)\n",
    "  \n",
    "# print classification report\n",
    "print(classification_report(y_test, predictions))"
   ]
  },
  {
   "cell_type": "code",
   "execution_count": 36,
   "metadata": {},
   "outputs": [],
   "source": [
    "cm1 = confusion_matrix(y_test, predictions, labels=lr1.classes_)\n",
    "disp = ConfusionMatrixDisplay(confusion_matrix=cm1,display_labels=lr1.classes_)"
   ]
  },
  {
   "cell_type": "code",
   "execution_count": 37,
   "metadata": {},
   "outputs": [
    {
     "data": {
      "image/png": "[encoded data removed]",
      "text/plain": [
       "<Figure size 640x480 with 2 Axes>"
      ]
     },
     "metadata": {},
     "output_type": "display_data"
    }
   ],
   "source": [
    "disp.plot()\n",
    "plt.show()"
   ]
  },
  {
   "cell_type": "code",
   "execution_count": 38,
   "metadata": {},
   "outputs": [
    {
     "data": {
      "text/plain": [
       "0.9565217391304348"
      ]
     },
     "execution_count": 38,
     "metadata": {},
     "output_type": "execute_result"
    }
   ],
   "source": [
    "accuracy_score(predictions,y_test)"
   ]
  },
  {
   "attachments": {},
   "cell_type": "markdown",
   "metadata": {},
   "source": [
    "The accuracy improved and notice that recall of minority class also improved."
   ]
  },
  {
   "attachments": {},
   "cell_type": "markdown",
   "metadata": {},
   "source": [
    "EXTRA: In order to see if there is a better ratio of undersampling and over sampling technique, We can use the following code."
   ]
  },
  {
   "cell_type": "code",
   "execution_count": 138,
   "metadata": {},
   "outputs": [
    {
     "name": "stdout",
     "output_type": "stream",
     "text": [
      "SMOTE oversampling rate:0.3, Random undersampling rate:0.7 , Mean ROC AUC: 0.972\n",
      "SMOTE oversampling rate:0.3, Random undersampling rate:0.6 , Mean ROC AUC: 0.972\n",
      "SMOTE oversampling rate:0.3, Random undersampling rate:0.5 , Mean ROC AUC: 0.972\n",
      "SMOTE oversampling rate:0.4, Random undersampling rate:0.7 , Mean ROC AUC: 0.973\n",
      "SMOTE oversampling rate:0.4, Random undersampling rate:0.6 , Mean ROC AUC: 0.971\n",
      "SMOTE oversampling rate:0.4, Random undersampling rate:0.5 , Mean ROC AUC: 0.970\n",
      "SMOTE oversampling rate:0.5, Random undersampling rate:0.7 , Mean ROC AUC: 0.971\n",
      "SMOTE oversampling rate:0.5, Random undersampling rate:0.6 , Mean ROC AUC: 0.972\n",
      "SMOTE oversampling rate:0.5, Random undersampling rate:0.5 , Mean ROC AUC: 0.970\n"
     ]
    }
   ],
   "source": [
    "# values to evaluate\n",
    "from imblearn.under_sampling import RandomUnderSampler\n",
    "from imblearn.pipeline import Pipeline\n",
    "from sklearn.model_selection import cross_val_score\n",
    "from sklearn.metrics import roc_auc_score\n",
    "from numpy import mean\n",
    "from sklearn.svm import SVC\n",
    "from imblearn.over_sampling import SMOTE\n",
    "over_values = [0.3,0.4,0.5]\n",
    "under_values = [0.7,0.6,0.5]\n",
    "for o in over_values:\n",
    "  for u in under_values:\n",
    "    # define pipeline\n",
    "    model = SVC()\n",
    "    over = SMOTE(sampling_strategy=o)\n",
    "    under = RandomUnderSampler(sampling_strategy=u)\n",
    "    steps = [('over', over), ('under', under), ('model', model)]\n",
    "    pipeline = Pipeline(steps=steps)\n",
    "    # evaluate pipeline\n",
    "    \n",
    "    scores = cross_val_score(pipeline, X, y, scoring='roc_auc', cv=5, n_jobs=-1)\n",
    "    score = mean(scores)\n",
    "    print('SMOTE oversampling rate:%.1f, Random undersampling rate:%.1f , Mean ROC AUC: %.3f' % (o, u, score))\n",
    "\n",
    "\n"
   ]
  },
  {
   "attachments": {},
   "cell_type": "markdown",
   "metadata": {},
   "source": [
    "SMOTE oversampling rate:0.4, Random undersampling rate:0.7 , Mean ROC AUC: 0.973 is the best ratio of sampling to improve the model results."
   ]
  },
  {
   "attachments": {},
   "cell_type": "markdown",
   "metadata": {},
   "source": [
    "References:\n",
    "https://towardsdatascience.com/how-to-deal-with-imbalanced-data-in-python-f9b71aba53eb\n",
    "https://towardsdatascience.com/applying-smote-for-class-imbalance-with-just-a-few-lines-of-code-python-cdf603e58688\n",
    "https://www.geeksforgeeks.org/ml-handling-imbalanced-data-with-smote-and-near-miss-algorithm-in-python/"
   ]
  },
  {
   "cell_type": "code",
   "execution_count": null,
   "metadata": {},
   "outputs": [],
   "source": []
  },
  {
   "cell_type": "code",
   "execution_count": null,
   "metadata": {},
   "outputs": [],
   "source": []
  },
  {
   "cell_type": "code",
   "execution_count": null,
   "metadata": {},
   "outputs": [],
   "source": []
  },
  {
   "cell_type": "code",
   "execution_count": null,
   "metadata": {},
   "outputs": [],
   "source": []
  }
 ],
 "metadata": {
  "kernelspec": {
   "display_name": "Python 3.9.6 64-bit",
   "language": "python",
   "name": "python3"
  },
  "language_info": {
   "codemirror_mode": {
    "name": "ipython",
    "version": 3
   },
   "file_extension": ".py",
   "mimetype": "text/x-python",
   "name": "python",
   "nbconvert_exporter": "python",
   "pygments_lexer": "ipython3",
   "version": "3.9.6"
  },
  "orig_nbformat": 4,
  "vscode": {
   "interpreter": {
    "hash": "7d30246967a506c9cb7c69d62db12851e97da4569e3c26fd36d0ad5d32f4441b"
   }
  }
 },
 "nbformat": 4,
 "nbformat_minor": 2
}
